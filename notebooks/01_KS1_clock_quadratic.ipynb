{
 "cells": [
  {
   "cell_type": "markdown",
   "id": "1",
   "metadata": {},
   "source": [
    "# KS-1: Clock Quadratic Test\n",
    "\n",
    "**Goal & Pass Criterion**: Bures distance squared vs small θ is quadratic; DB²/θ² ~ constant for θ→0.\n",
    "\n",
    "This notebook tests the fundamental assumption that quantum \"clocks\" exhibit quadratic distinguishability for small parameter changes. This is essential for the small-delta law that underlies capacity-time dilation effects."
   ]
  },
  {
   "cell_type": "markdown",
   "id": "2", 
   "metadata": {},
   "source": [
    "## Setup"
   ]
  },
  {
   "cell_type": "code",
   "execution_count": null,
   "id": "3",
   "metadata": {},
   "outputs": [],
   "source": [
    "import sys\n",
    "sys.path.append('../src')\n",
    "\n",
    "import numpy as np\n",
    "import matplotlib.pyplot as plt\n",
    "from capacity_time.clocks import run_all_ks1_tests, test_ks1_pure_state, test_ks1_noisy_state\n",
    "from capacity_time.qfi import bures_small_delta, bures_distance_squared\n",
    "from plotting import setup_figure, save_figure, plot_line_comparison\n",
    "\n",
    "# Configure plotting\n",
    "plt.rcParams['figure.figsize'] = (12, 8)\n",
    "plt.rcParams['font.size'] = 11"
   ]
  },
  {
   "cell_type": "markdown",
   "id": "4",
   "metadata": {},
   "source": [
    "## Theory Background\n",
    "\n",
    "For a quantum clock state |ψ(θ)⟩ evolving with parameter θ, the Bures distance squared should follow:\n",
    "\n",
    "$$D_B^2(\\theta) = 2(1 - \\sqrt{F(\\psi(0), \\psi(\\theta))})$$\n",
    "\n",
    "For small θ, this should be quadratic: $D_B^2(\\theta) \\approx C\\theta^2$ where C is a constant.\n",
    "\n",
    "For our pointer state |+⟩ → Rz(θ)|+⟩, we expect C ≈ 0.25."
   ]
  },
  {
   "cell_type": "markdown",
   "id": "5",
   "metadata": {},
   "source": [
    "## Test 1: Pure Pointer State"
   ]
  },
  {
   "cell_type": "code",
   "execution_count": null,
   "id": "6", 
   "metadata": {},
   "outputs": [],
   "source": [
    "print(\"Testing pure pointer state |+⟩ → Rz(θ)|+⟩...\")\n",
    "print(\"=\" * 50)\n",
    "\n",
    "# Run pure state test\n",
    "ratios_pure, mean_ratio_pure, pass_pure = test_ks1_pure_state(\n",
    "    theta_max=0.2,\n",
    "    n_points=20, \n",
    "    plot=True\n",
    ")\n",
    "\n",
    "print(f\"\\nResult: {'PASS' if pass_pure else 'FAIL'}\")\n",
    "print(f\"Mean ratio DB²/θ²: {mean_ratio_pure:.4f}\")\n",
    "print(f\"Expected theoretical value: ~0.25\")"
   ]
  },
  {
   "cell_type": "markdown",
   "id": "7",
   "metadata": {},
   "source": [
    "## Test 2: Noisy Pointer State"
   ]
  },
  {
   "cell_type": "code",
   "execution_count": null,
   "id": "8",
   "metadata": {},
   "outputs": [],
   "source": [
    "print(\"Testing noisy pointer state with T1=50μs, T2=30μs...\")\n",
    "print(\"=\" * 50)\n",
    "\n",
    "# Run noisy state test\n",
    "ratios_noisy, mean_ratio_noisy, pass_noisy = test_ks1_noisy_state(\n",
    "    theta_max=0.2,\n",
    "    n_points=20,\n",
    "    T1=50e-6,  # 50 μs\n",
    "    T2=30e-6,  # 30 μs\n",
    "    plot=True\n",
    ")\n",
    "\n",
    "print(f\"\\nResult: {'PASS' if pass_noisy else 'FAIL'}\")\n",
    "print(f\"Mean ratio DB²/θ²: {mean_ratio_noisy:.4f}\")\n",
    "print(f\"Note: Noise reduces ratio but quadratic behavior should persist\")"
   ]
  },
  {
   "cell_type": "markdown",
   "id": "9",
   "metadata": {},
   "source": [
    "## Comparison Analysis"
   ]
  },
  {
   "cell_type": "code",
   "execution_count": null,
   "id": "10",
   "metadata": {},
   "outputs": [],
   "source": [
    "# Compare pure vs noisy ratios\n",
    "theta_vals = np.linspace(0.01, 0.2, 20)\n",
    "\n",
    "ratio_comparison = {\n",
    "    'Pure State': ratios_pure,\n",
    "    'Noisy State': ratios_noisy\n",
    "}\n",
    "\n",
    "fig = plot_line_comparison(\n",
    "    theta_vals, ratio_comparison,\n",
    "    title=\"KS-1: Quadratic Ratio Comparison\", \n",
    "    xlabel=\"θ (radians)\",\n",
    "    ylabel=\"DB²/θ²\",\n",
    "    figsize='double',\n",
    "    save_path='figures/KS1_ratio_comparison'\n",
    ")\n",
    "\n",
    "plt.axhline(0.25, color='red', linestyle=':', alpha=0.7, label='Theoretical (pure)')\n",
    "plt.axhline(mean_ratio_pure, color='blue', linestyle='--', alpha=0.7, \n",
    "           label=f'Mean pure: {mean_ratio_pure:.3f}')\n",
    "plt.axhline(mean_ratio_noisy, color='orange', linestyle='--', alpha=0.7,\n",
    "           label=f'Mean noisy: {mean_ratio_noisy:.3f}')\n",
    "plt.legend()\n",
    "plt.show()"
   ]
  },
  {
   "cell_type": "markdown",
   "id": "11", 
   "metadata": {},
   "source": [
    "## Custom Angle Range Test"
   ]
  },
  {
   "cell_type": "code",
   "execution_count": null,
   "id": "12",
   "metadata": {},
   "outputs": [],
   "source": [
    "# Test even smaller angles to verify θ→0 limit\n",
    "print(\"Testing very small angles (θ < 0.1 rad)...\")\n",
    "\n",
    "from capacity_time.clocks import pointer_state\n",
    "\n",
    "small_angles = np.linspace(0.005, 0.1, 15)\n",
    "theta_arr, DB2_arr, ratio_arr = bures_small_delta(\n",
    "    small_angles.tolist(),\n",
    "    lambda theta: pointer_state(theta)\n",
    ")\n",
    "\n",
    "# Plot results\n",
    "fig, (ax1, ax2) = plt.subplots(1, 2, figsize=(14, 6))\n",
    "\n",
    "# Linear relationship DB² vs θ²  \n",
    "ax1.scatter(theta_arr**2, DB2_arr, alpha=0.7, s=50)\n",
    "ax1.plot(theta_arr**2, 0.25 * theta_arr**2, 'r--', label='Theoretical: 0.25θ²')\n",
    "ax1.set_xlabel('θ² (rad²)')\n",
    "ax1.set_ylabel('DB²')\n",
    "ax1.set_title('Very Small Angles: DB² vs θ²')\n",
    "ax1.legend()\n",
    "ax1.grid(True, alpha=0.3)\n",
    "\n",
    "# Ratio consistency\n",
    "ax2.plot(theta_arr, ratio_arr, 'bo-', markersize=4)\n",
    "ax2.axhline(0.25, color='red', linestyle='--', alpha=0.7, label='Theoretical: 0.25')\n",
    "ax2.axhline(np.mean(ratio_arr), color='green', linestyle=':', alpha=0.7,\n",
    "           label=f'Mean: {np.mean(ratio_arr):.3f}')\n",
    "ax2.set_xlabel('θ (rad)')\n",
    "ax2.set_ylabel('DB²/θ²')\n",
    "ax2.set_title('Small Angle Limit Test')\n",
    "ax2.legend()\n",
    "ax2.grid(True, alpha=0.3)\n",
    "\n",
    "plt.suptitle('KS-1: Ultra-Small Angle Verification')\n",
    "plt.tight_layout()\n",
    "plt.savefig('figures/KS1_small_angle_limit.png', dpi=150, bbox_inches='tight')\n",
    "plt.show()\n",
    "\n",
    "print(f\"Very small angle mean ratio: {np.mean(ratio_arr):.4f}\")\n",
    "print(f\"Standard deviation: {np.std(ratio_arr):.4f}\")\n",
    "print(f\"Relative variation: {np.std(ratio_arr)/np.mean(ratio_arr)*100:.1f}%\")"
   ]
  },
  {
   "cell_type": "markdown",
   "id": "13",
   "metadata": {},
   "source": [
    "## Final KS-1 Verdict"
   ]
  },
  {
   "cell_type": "code",
   "execution_count": null,
   "id": "14",
   "metadata": {},
   "outputs": [],
   "source": [
    "# Overall KS-1 assessment\n",
    "overall_pass = pass_pure and pass_noisy\n",
    "\n",
    "print(\"=\" * 60)\n",
    "print(\"KS-1: CLOCK QUADRATIC TEST - FINAL RESULTS\")\n",
    "print(\"=\" * 60)\n",
    "print(f\"Pure state test: {'PASS' if pass_pure else 'FAIL'}\")\n",
    "print(f\"Noisy state test: {'PASS' if pass_noisy else 'FAIL'}\")\n",
    "print(f\"\")\n",
    "print(f\"Expected behavior: DB²/θ² ≈ 0.25 (constant for small θ)\")\n",
    "print(f\"Pure state result: {mean_ratio_pure:.4f}\")\n",
    "print(f\"Noisy state result: {mean_ratio_noisy:.4f}\")\n",
    "print(f\"\")\n",
    "print(f\"KS-1 OVERALL: {'PASS' if overall_pass else 'FAIL'}\")\n",
    "print(\"=\" * 60)\n",
    "\n",
    "if overall_pass:\n",
    "    print(\"✓ Quadratic small-delta law confirmed\")\n",
    "    print(\"✓ Ready for KS-2 motion vs demand tests\")\n",
    "else:\n",
    "    print(\"✗ Quadratic behavior not established\")\n",
    "    print(\"✗ May need to revise theoretical foundations\")"
   ]
  },
  {
   "cell_type": "markdown",
   "id": "15",
   "metadata": {},
   "source": [
    "## Summary\n",
    "\n",
    "KS-1 tests the fundamental quantum clock assumption that enables all subsequent capacity-time dilation experiments. The quadratic small-delta law DB²(θ) ∝ θ² is essential because:\n",
    "\n",
    "1. It establishes quantum Fisher Information scaling\n",
    "2. It provides the foundation for demand estimation via variance\n",
    "3. It ensures that small changes in evolution rate create detectable effects\n",
    "\n",
    "**Pass Criteria**: \n",
    "- DB²/θ² ratio should be approximately constant for small θ\n",
    "- Pure state ratio should be close to theoretical value (~0.25)\n",
    "- Noisy state should maintain quadratic behavior (possibly with reduced ratio)\n",
    "\n",
    "If KS-1 fails, the entire capacity-time dilation framework needs theoretical revision."
   ]
  }
 ],
 "metadata": {
  "kernelspec": {
   "display_name": "Python 3",
   "language": "python", 
   "name": "python3"
  },
  "language_info": {
   "codemirror_mode": {
    "name": "ipython",
    "version": 3
   },
   "file_extension": ".py",
   "name": "python",
   "nbconvert_exporter": "python",
   "pygments_lexer": "ipython3",
   "version": "3.11.0"
  }
 },
 "nbformat": 4,
 "nbformat_minor": 5
}
