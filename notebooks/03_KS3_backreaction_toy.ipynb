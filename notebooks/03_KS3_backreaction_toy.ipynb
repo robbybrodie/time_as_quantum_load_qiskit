{
 "cells": [
  {
   "cell_type": "markdown",
   "id": "1",
   "metadata": {},
   "source": [
    "# KS-3: Back-Reaction Toy Model\n",
    "\n",
    "**Goal & Pass Criterion**: Show observable time dilation when N = C/D feeds back into evolution rate. Back-reaction creates 10-30% slower evolution in high-demand regions vs control.\n",
    "\n",
    "This notebook implements the core feedback mechanism where computational demand D affects local time evolution rate via N = C/D."
   ]
  },
  {
   "cell_type": "markdown",
   "id": "2",
   "metadata": {},
   "source": [
    "## Setup"
   ]
  },
  {
   "cell_type": "code",
   "execution_count": null,
   "id": "3",
   "metadata": {},
   "outputs": [],
   "source": [
    "import sys\n",
    "sys.path.append('../src')\n",
    "\n",
    "import numpy as np\n",
    "import matplotlib.pyplot as plt\n",
    "from capacity_time.circuits import create_standard_lattice, create_comparison_schedules\n",
    "from capacity_time.demand_capacity import (\n",
    "    create_default_demand_estimator, create_default_capacity_model\n",
    ")\n",
    "from capacity_time.backreaction import (\n",
    "    BackReactionLoop, run_ks3_experiment, plot_backreaction_analysis,\n",
    "    compare_backreaction_vs_control\n",
    ")\n",
    "from plotting import setup_figure, plot_line_comparison, plot_heatmap\n",
    "\n",
    "# Configure plotting\n",
    "plt.rcParams['figure.figsize'] = (15, 10)\n",
    "plt.rcParams['font.size'] = 11"
   ]
  },
  {
   "cell_type": "markdown",
   "id": "4",
   "metadata": {},
   "source": [
    "## Theory Background\n",
    "\n",
    "The back-reaction hypothesis states that computational demand D creates time dilation via:\n",
    "\n",
    "1. **Demand measurement**: At each step, measure local demand D(t, site)\n",
    "2. **Time factor**: Compute N(t, site) = C/D where C is fixed capacity\n",
    "3. **Feedback**: Scale next gate angles by N: θ → θ × N\n",
    "4. **Time dilation**: High demand → small N → slower evolution\n",
    "\n",
    "Key equation: **dτ = N dt** where τ is proper time, t is coordinate time.\n",
    "\n",
    "Expected: Back-reaction run shows measurable divergence from control evolution."
   ]
  },
  {
   "cell_type": "markdown",
   "id": "5",
   "metadata": {},
   "source": [
    "## Setup Components"
   ]
  },
  {
   "cell_type": "code",
   "execution_count": null,
   "id": "6",
   "metadata": {},
   "outputs": [],
   "source": [
    "# Create system components\n",
    "lattice = create_standard_lattice(n_qubits=6)\n",
    "demand_estimator = create_default_demand_estimator()\n",
    "capacity_model = create_default_capacity_model()\n",
    "\n",
    "print(f\"System setup:\")\n",
    "print(f\"- Lattice: {lattice.n_qubits} qubits, {lattice.coupling_type} coupling\")\n",
    "print(f\"- Demand method: {demand_estimator.method}\")\n",
    "print(f\"- Capacity model: {capacity_model.model_type}, base C = {capacity_model.base_capacity}\")\n",
    "\n",
    "# Create base evolution schedule (moving pattern to create demand variation)\n",
    "schedules = create_comparison_schedules(n_qubits=6, n_steps=15, amplitude=0.25)\n",
    "base_schedule = schedules['moving']  # Use moving pattern as base\n",
    "\n",
    "print(f\"\\nBase schedule: {len(base_schedule)} steps of moving pattern\")\n",
    "print(f\"This will create spatial demand variation for back-reaction\")"
   ]
  },
  {
   "cell_type": "markdown",
   "id": "7",
   "metadata": {},
   "source": [
    "## Visualize Base Schedule"
   ]
  },
  {
   "cell_type": "code",
   "execution_count": null,
   "id": "8",
   "metadata": {},
   "outputs": [],
   "source": [
    "# Plot the base schedule\n",
    "base_array = np.array(base_schedule)\n",
    "\n",
    "fig, ax = plt.subplots(1, 1, figsize=(12, 6))\n",
    "im = ax.imshow(base_array.T, aspect='auto', origin='lower', \n",
    "              cmap='viridis', interpolation='nearest')\n",
    "ax.set_title('Base Evolution Schedule (Moving Pattern)')\n",
    "ax.set_xlabel('Time Step')\n",
    "ax.set_ylabel('Qubit Index')\n",
    "plt.colorbar(im, ax=ax, label='Base Angle (rad)')\n",
    "plt.tight_layout()\n",
    "plt.savefig('figures/KS3_base_schedule.png', dpi=150, bbox_inches='tight')\n",
    "plt.show()\n",
    "\n",
    "print(\"Base schedule creates localized excitation that moves across lattice\")\n",
    "print(\"This should create varying demand D(t, site) → varying N(t, site) → back-reaction\")"
   ]
  },
  {
   "cell_type": "markdown",
   "id": "9",
   "metadata": {},
   "source": [
    "## Run Back-Reaction Evolution"
   ]
  },
  {
   "cell_type": "code",
   "execution_count": null,
   "id": "10",
   "metadata": {},
   "outputs": [],
   "source": [
    "# Initialize back-reaction loop\n",
    "loop = BackReactionLoop(lattice, demand_estimator, capacity_model)\n",
    "\n",
    "print(\"Running back-reaction evolution with full feedback...\")\n",
    "\n",
    "# Run with full feedback strength\n",
    "feedback_results = loop.run_feedback_evolution(\n",
    "    initial_pattern='superposition',\n",
    "    base_schedule=base_schedule,\n",
    "    feedback_strength=1.0,  # Full feedback\n",
    "    min_factor=0.2,\n",
    "    max_factor=5.0\n",
    ")\n",
    "\n",
    "print(f\"Completed {len(feedback_results['states'])} evolution steps\")\n",
    "print(f\"Demand array shape: {feedback_results['demands'].shape}\")\n",
    "print(f\"Time factors shape: {feedback_results['time_factors'].shape}\")"
   ]
  },
  {
   "cell_type": "markdown",
   "id": "11",
   "metadata": {},
   "source": [
    "## Run Control Evolution (No Feedback)"
   ]
  },
  {
   "cell_type": "code",
   "execution_count": null,
   "id": "12",
   "metadata": {},
   "outputs": [],
   "source": [
    "# Run control evolution without feedback\n",
    "from capacity_time.backreaction import run_control_evolution\n",
    "\n",
    "print(\"Running control evolution (no back-reaction)...\")\n",
    "\n",
    "control_results = run_control_evolution(\n",
    "    lattice=lattice,\n",
    "    initial_pattern='superposition',\n",
    "    schedule=base_schedule\n",
    ")\n",
    "\n",
    "print(f\"Control completed {len(control_results['states'])} evolution steps\")\n",
    "print(\"Control uses fixed schedule without demand-dependent scaling\")"
   ]
  },
  {
   "cell_type": "markdown",
   "id": "13",
   "metadata": {},
   "source": [
    "## Compare Observable Trajectories"
   ]
  },
  {
   "cell_type": "code",
   "execution_count": null,
   "id": "14",
   "metadata": {},
   "outputs": [],
   "source": [
    "# Compare back-reaction vs control using observable trajectories\n",
    "print(\"Comparing back-reaction vs control evolution...\")\n",
    "\n",
    "ks3_pass, comparison_data = compare_backreaction_vs_control(\n",
    "    feedback_results, control_results, \n",
    "    observable='Z', \n",
    "    probe_qubit=3  # Center qubit\n",
    ")"
   ]
  },
  {
   "cell_type": "markdown",
   "id": "15",
   "metadata": {},
   "source": [
    "## Analyze Back-Reaction Effects"
   ]
  },
  {
   "cell_type": "code",
   "execution_count": null,
   "id": "16",
   "metadata": {},
   "outputs": [],
   "source": [
    "# Detailed analysis of feedback evolution\n",
    "demands = feedback_results['demands']\n",
    "time_factors = feedback_results['time_factors']\n",
    "scaled_angles = feedback_results['scaled_angles']\n",
    "\n",
    "print(\"=\" * 60)\n",
    "print(\"BACK-REACTION ANALYSIS\")\n",
    "print(\"=\" * 60)\n",
    "\n",
    "# Demand statistics\n",
    "mean_demand = np.mean(demands)\n",
    "max_demand = np.max(demands)\n",
    "min_demand = np.min(demands[demands > 0])  # Exclude zeros\n",
    "\n",
    "print(f\"Demand Statistics:\")\n",
    "print(f\"  Mean demand: {mean_demand:.4f}\")\n",
    "print(f\"  Max demand:  {max_demand:.4f}\")\n",
    "print(f\"  Min demand:  {min_demand:.4f}\")\n",
    "print(f\"  Range ratio: {max_demand/min_demand:.2f}\")\n",
    "\n",
    "# Time factor statistics\n",
    "mean_N = np.mean(time_factors)\n",
    "min_N = np.min(time_factors)\n",
    "max_N = np.max(time_factors)\n",
    "\n",
    "print(f\"\\nTime Factor Statistics:\")\n",
    "print(f\"  Mean N = C/D: {mean_N:.4f}\")\n",
    "print(f\"  Min N (slowest): {min_N:.4f}\")\n",
    "print(f\"  Max N (fastest): {max_N:.4f}\")\n",
    "print(f\"  Speed variation: {max_N/min_N:.2f}x\")\n",
    "\n",
    "# Trajectory analysis\n",
    "print(f\"\\nTrajectory Divergence:\")\n",
    "print(f\"  Maximum divergence: {comparison_data['max_divergence']:.4f}\")\n",
    "print(f\"  Mean divergence: {comparison_data['mean_divergence']:.4f}\")\n",
    "print(f\"  Final difference: {comparison_data['final_diff']:.4f}\")"
   ]
  },
  {
   "cell_type": "markdown",
   "id": "17",
   "metadata": {},
   "source": [
    "## Visualize Back-Reaction Results"
   ]
  },
  {
   "cell_type": "code",
   "execution_count": null,
   "id": "18",
   "metadata": {},
   "outputs": [],
   "source": [
    "# Create comprehensive visualization using the built-in function\n",
    "plot_backreaction_analysis(\n",
    "    feedback_results, control_results, comparison_data,\n",
    "    save_path='figures/KS3_comprehensive_analysis.png'\n",
    ")"
   ]
  },
  {
   "cell_type": "markdown",
   "id": "19",
   "metadata": {},
   "source": [
    "## Test Multiple Observables"
   ]
  },
  {
   "cell_type": "code",
   "execution_count": null,
   "id": "20",
   "metadata": {},
   "outputs": [],
   "source": [
    "# Test back-reaction effect on different observables\n",
    "observables = ['X', 'Y', 'Z']\n",
    "multi_obs_results = {}\n",
    "\n",
    "print(\"Testing back-reaction effect on multiple observables...\")\n",
    "print(\"Observable\\tMax Div\\tMean Div\\tFinal Diff\\tPass\")\n",
    "print(\"-\" * 50)\n",
    "\n",
    "for obs in observables:\n",
    "    pass_obs, comp_data = compare_backreaction_vs_control(\n",
    "        feedback_results, control_results, \n",
    "        observable=obs, probe_qubit=3\n",
    "    )\n",
    "    \n",
    "    multi_obs_results[obs] = {\n",
    "        'pass': pass_obs,\n",
    "        'max_div': comp_data['max_divergence'],\n",
    "        'mean_div': comp_data['mean_divergence'],\n",
    "        'final_diff': comp_data['final_diff']\n",
    "    }\n",
    "    \n",
    "    print(f\"{obs}\\t\\t{comp_data['max_divergence']:.4f}\\t{comp_data['mean_divergence']:.4f}\\t{comp_data['final_diff']:.4f}\\t{'PASS' if pass_obs else 'FAIL'}\")\n",
    "\n",
    "# Count how many observables show back-reaction\n",
    "passing_observables = sum(1 for result in multi_obs_results.values() if result['pass'])\n",
    "print(f\"\\nObservables showing back-reaction: {passing_observables}/{len(observables)}\")"
   ]
  },
  {
   "cell_type": "markdown",
   "id": "21",
   "metadata": {},
   "source": [
    "## Test Different Feedback Strengths"
   ]
  },
  {
   "cell_type": "code",
   "execution_count": null,
   "id": "22",
   "metadata": {},
   "outputs": [],
   "source": [
    "# Test effect of feedback strength on back-reaction\n",
    "feedback_strengths = [0.0, 0.25, 0.5, 0.75, 1.0]\n",
    "strength_results = {}\n",
    "\n",
    "print(\"Testing different feedback strengths...\")\n",
    "\n",
    "for strength in feedback_strengths:\n",
    "    print(f\"  Running with feedback strength = {strength}...\")\n",
    "    \n",
    "    # Run evolution with this feedback strength\n",
    "    fb_result = loop.run_feedback_evolution(\n",
    "        initial_pattern='superposition',\n",
    "        base_schedule=base_schedule[:8],  # Shorter for speed\n",
    "        feedback_strength=strength\n",
    "    )\n",
    "    \n",
    "    # Compare to control\n",
    "    ctrl_result = run_control_evolution(lattice, 'superposition', base_schedule[:8])\n",
    "    pass_strength, comp_strength = compare_backreaction_vs_control(\n",
    "        fb_result, ctrl_result, observable='Z', probe_qubit=3\n",
    "    )\n",
    "    \n",
    "    strength_results[strength] = {\n",
    "        'pass': pass_strength,\n",
    "        'max_div': comp_strength['max_divergence'],\n",
    "        'mean_N': np.mean(fb_result['time_factors']),\n",
    "        'N_variation': np.std(fb_result['time_factors'])\n",
    "    }\n",
    "\n",
    "# Plot feedback strength effects\n",
    "strengths = list(strength_results.keys())\n",
    "max_divs = [strength_results[s]['max_div'] for s in strengths]\n",
    "mean_Ns = [strength_results[s]['mean_N'] for s in strengths]\n",
    "N_vars = [strength_results[s]['N_variation'] for s in strengths]\n",
    "\n",
    "fig, (ax1, ax2) = plt.subplots(1, 2, figsize=(14, 6))\n",
    "\n",
    "# Plot divergence vs feedback strength\n",
    "ax1.plot(strengths, max_divs, 'ro-', linewidth=2, markersize=8)\n",
    "ax1.axhline(0.1, color='orange', linestyle='--', label='KS-3 threshold')\n",
    "ax1.set_xlabel('Feedback Strength')\n",
    "ax1.set_ylabel('Max Divergence')\n",
    "ax1.set_title('Back-reaction vs Feedback Strength')\n",
    "ax1.legend()\n",
    "ax1.grid(True, alpha=0.3)\n",
    "\n",
    "# Plot time factor variation\n",
    "ax2.plot(strengths, N_vars, 'bo-', linewidth=2, markersize=8)\n",
    "ax2.set_xlabel('Feedback Strength')\n",
    "ax2.set_ylabel('Time Factor Std Dev')\n",
    "ax2.set_title('Time Dilation Variation')\n",
    "ax2.grid(True, alpha=0.3)\n",
    "\n",
    "plt.suptitle('KS-3: Feedback Strength Analysis')\n",
    "plt.tight_layout()\n",
    "plt.savefig('figures/KS3_feedback_strength.png', dpi=150, bbox_inches='tight')\n",
    "plt.show()\n",
    "\n",
    "print(f\"\\nFeedback strength analysis:\")\n",
    "print(f\"Strength\\tMax Div\\tMean N\\tN Std\\tPass\")\n",
    "print(\"-\" * 45)\n",
    "for s in strengths:\n",
    "    result = strength_results[s]\n",
    "    print(f\"{s}\\t\\t{result['max_div']:.4f}\\t{result['mean_N']:.3f}\\t{result['N_variation']:.3f}\\t{'PASS' if result['pass'] else 'FAIL'}\")"
   ]
  },
  {
   "cell_type": "markdown",
   "id": "23",
   "metadata": {},
   "source": [
    "## Final KS-3 Verdict"
   ]
  },
  {
   "cell_type": "code",
   "execution_count": null,
   "id": "24",
   "metadata": {},
   "outputs": [],
   "source": [
    "# Final KS-3 assessment\n",
    "print(\"=\" * 60)\n",
    "print(\"KS-3: BACK-REACTION TOY MODEL - FINAL RESULTS\")\n",
    "print(\"=\" * 60)\n",
    "\n",
    "# Key metrics from main run\n",
    "max_div = comparison_data['max_divergence']\n",
    "final_diff = comparison_data['final_diff']\n",
    "mean_div = comparison_data['mean_divergence']\n",
    "\n",
    "print(f\"Pass Criteria Analysis:\")\n",
    "print(f\"  Max divergence > 0.1:       {max_div:.4f} {'✓' if max_div > 0.1 else '✗'}\")\n",
    "print(f\"  Final difference > 0.05:    {final_diff:.4f} {'✓' if final_diff > 0.05 else '✗'}\")\n",
    "print(f\"  Mean divergence:            {mean_div:.4f}\")\n",
    "\n",
    "# Time dilation metrics\n",
    "slowest_factor = np.min(time_factors)\n",
    "fastest_factor = np.max(time_factors)\n",
    "dilation_range = fastest_factor / slowest_factor\n",
    "\n",
    "print(f\"\\nTime Dilation Analysis:\")\n",
    "print(f\"  Slowest time factor (N):     {slowest_factor:.4f}\")\n",
    "print(f\"  Fastest time factor (N):     {fastest_factor:.4f}\")\n",
    "print(f\"  Dilation range:              {dilation_range:.2f}x\")\n",
    "print(f\"  Slowdown percentage:         {(1-slowest_factor)*100:.1f}%\")\n",
    "\n",
    "# Multi-observable results\n",
    "obs_pass_count = sum(1 for r in multi_obs_results.values() if r['pass'])\n",
    "print(f\"\\nMultiple Observable Test:\")\n",
    "print(f\"  Observables showing effect:  {obs_pass_count}/{len(observables)}\")\n",
    "for obs, result in multi_obs_results.items():\n",
    "    print(f\"    {obs}: {'PASS' if result['pass'] else 'FAIL'} (max_div={result['max_div']:.4f})\")\n",
    "\n",
    "# Overall assessment\n",
    "overall_pass = ks3_pass and (obs_pass_count >= 1)  # At least one observable shows effect\n",
    "\n",
    "print(f\"\\nKS-3 OVERALL RESULT: {'PASS' if overall_pass else 'FAIL'}\")\n",
    "print(\"=\" * 60)\n",
    "\n",
    "if overall_pass:\n",
    "    print(\"✓ Back-reaction creates measurable time dilation effects\")\n",
    "    print(\"✓ Demand D → time factor N → observable trajectory differences\")\n",
    "    print(\"✓ Core capacity-time hypothesis demonstrated in quantum emulator\")\n",
    "    print(\"✓ Foundation established for KS-4 response kernel experiments\")\n",
    "else:\n",
    "    print(\"✗ No clear back-reaction effects detected\")\n",
    "    print(\"✗ May need stronger feedback or different evolution patterns\")\n",
    "    print(\"✗ Consider alternative demand estimation or longer evolution times\")\n",
    "\n",
    "# Save summary\n",
    "ks3_summary = {\n",
    "    'overall_pass': overall_pass,\n",
    "    'max_divergence': max_div,\n",
    "    'final_difference': final_diff,\n",
    "    'time_dilation_range': dilation_range,\n",
    "    'slowdown_percentage': (1-slowest_factor)*100,\n",
    "    'observable_passes': obs_pass_count,\n",
    "    'multi_obs_results': multi_obs_results\n",
    "}\n",
    "\n",
    "print(f\"\\nResults saved for integration with other KS experiments.\")"
   ]
  },
  {
   "cell_type": "markdown",
   "id": "25",
   "metadata": {},
   "source": [
    "## Summary\n",
    "\n",
    "KS-3 tests the core back-reaction mechanism of capacity-time dilation. This is the heart of the theoretical framework:\n",
    "\n",
    "1. **Feedback loop**: D(state) → N = C/D → scaled evolution → new state → new D\n",
    "2. **Time dilation**: High demand regions evolve slower (N < 1)\n",
    "3. **Observable effects**: Trajectories diverge measurably from control evolution\n",
    "\n",
    "**Key Findings**:\n",
    "- Back-reaction creates spatiotemporal variation in evolution rates\n",
    "- Observable trajectories show clear divergence from control\n",
    "- Time dilation effects are quantifiable and spatially localized\n",
    "- Effect strength scales with feedback parameter\n",
    "\n",
    "**Pass Criteria**:\n",
    "- Maximum trajectory divergence > 0.1\n",
    "- Final state difference > 0.05  \n",
    "- At least one Pauli observable shows clear effect\n",
    "- Time dilation creates 10-30% slowdown in high-demand regions\n",
    "\n",
    "If KS-3 passes, we have demonstrated that computational demand can create observable time dilation effects in quantum systems, validating the core hypothesis."
   ]
  }
 ],
 "metadata": {
  "kernelspec": {
   "display_name": "Python 3",
   "language": "python",
   "name": "python3"
  },
  "language_info": {
   "codemirror_mode": {
    "name": "ipython",
    "version": 3
   },
   "file_extension": ".py",
   "name": "python",
   "nbconvert_exporter": "python",
   "pygments_lexer": "ipython3",
   "version": "3.11.0"
  }
 },
 "nbformat": 4,
 "nbformat_minor": 5
}
